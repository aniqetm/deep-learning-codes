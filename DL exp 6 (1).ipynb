{
 "cells": [
  {
   "cell_type": "code",
   "execution_count": 1,
   "id": "ce34f84d-75b0-4c47-b04b-250217c56129",
   "metadata": {},
   "outputs": [],
   "source": [
    "import numpy as np"
   ]
  },
  {
   "cell_type": "code",
   "execution_count": 2,
   "id": "0cfc81da-c795-4ef0-a61b-0b5bb294c8d6",
   "metadata": {},
   "outputs": [
    {
     "name": "stdout",
     "output_type": "stream",
     "text": [
      "Output without hidden layer: \n",
      " [[0.8 1.6]\n",
      " [1.8 3.6]\n",
      " [2.8 5.6]]\n"
     ]
    }
   ],
   "source": [
    "input_data = np.array([[1, 2], [3, 4], [5, 6]])\n",
    "weights = np.array([[0.2, 0.4], [0.3, 0.6]])\n",
    "\n",
    "output_data = np.dot(input_data, weights)\n",
    "\n",
    "print(f\"Output without hidden layer: \\n {output_data}\")"
   ]
  },
  {
   "cell_type": "code",
   "execution_count": 3,
   "id": "12b03950-4915-4882-94ad-97c0aa7cac7d",
   "metadata": {},
   "outputs": [
    {
     "name": "stdout",
     "output_type": "stream",
     "text": [
      "Output with Hidden Layer: \n",
      " [[0.64 1.36]\n",
      " [1.44 3.06]\n",
      " [2.24 4.76]]\n"
     ]
    }
   ],
   "source": [
    "input_data = np.array([[1, 2], [3, 4], [5, 6]])\n",
    "weights_hidden = np.array([[0.2, 0.4], [0.3, 0.6]])\n",
    "\n",
    "weights_op = np.array([[0.4, 0.1], [0.2, 0.8]])\n",
    "\n",
    "hidden_layer_op = np.dot(input_data, weights_hidden)\n",
    "op_data = np.dot(hidden_layer_op, weights_op)\n",
    "\n",
    "print(f\"Output with Hidden Layer: \\n {op_data}\")"
   ]
  },
  {
   "cell_type": "code",
   "execution_count": 4,
   "id": "61cb6b11-a41d-42cb-88d0-afc47e9d3567",
   "metadata": {},
   "outputs": [
    {
     "name": "stdout",
     "output_type": "stream",
     "text": [
      "\u001b[1m1/1\u001b[0m \u001b[32m━━━━━━━━━━━━━━━━━━━━\u001b[0m\u001b[37m\u001b[0m \u001b[1m0s\u001b[0m 157ms/step\n",
      "Output with Keras: \n",
      " [[0.52352464 0.5048753 ]\n",
      " [0.52340436 0.50350267]\n",
      " [0.54205966 0.5057405 ]]\n"
     ]
    }
   ],
   "source": [
    "from keras.models import Sequential\n",
    "from keras.layers import Dense\n",
    "import warnings\n",
    "warnings.filterwarnings(\"ignore\")\n",
    "\n",
    "ip_data = np.array([[2, 7],[6, 11],[5, 9]])\n",
    "\n",
    "model = Sequential()\n",
    "model.add(Dense(units=2, input_dim=2, activation='sigmoid'))\n",
    "model.add(Dense(units=2, activation='sigmoid'))\n",
    "\n",
    "op_data = model.predict(ip_data)\n",
    "print(f\"Output with Keras: \\n {op_data}\")"
   ]
  },
  {
   "cell_type": "code",
   "execution_count": 6,
   "id": "db704f73-5548-42e9-977f-10226ab6b44a",
   "metadata": {},
   "outputs": [
    {
     "name": "stdout",
     "output_type": "stream",
     "text": [
      "\u001b[1m1/1\u001b[0m \u001b[32m━━━━━━━━━━━━━━━━━━━━\u001b[0m\u001b[37m\u001b[0m \u001b[1m0s\u001b[0m 47ms/step\n",
      "Output with hidden layer using Keras:\n",
      "[[0.44890714 0.5964724 ]\n",
      " [0.414453   0.6061634 ]\n",
      " [0.40287682 0.60601103]]\n"
     ]
    }
   ],
   "source": [
    "# Import necessary libraries\n",
    "import numpy as np\n",
    "from keras.models import Sequential\n",
    "from keras.layers import Dense\n",
    "\n",
    "# Input data (a 3x2 matrix)\n",
    "input_data = np.array([[1, 2],\n",
    "                       [3, 4],\n",
    "                       [5, 6]])\n",
    "\n",
    "# Define the Keras model\n",
    "model = Sequential()\n",
    "\n",
    "# Add a hidden layer with 2 units and input dimension 2, using matrix multiplication\n",
    "model.add(Dense(units=2, input_dim=2, activation='sigmoid'))\n",
    "\n",
    "# Add the output layer with 2 units, also using matrix multiplication\n",
    "model.add(Dense(units=2, activation='sigmoid'))\n",
    "\n",
    "# Weight matrices will be automatically initialized by Keras\n",
    "\n",
    "# Perform the forward pass using Keras\n",
    "output_data = model.predict(input_data)\n",
    "\n",
    "print(\"Output with hidden layer using Keras:\")\n",
    "print(output_data)"
   ]
  },
  {
   "cell_type": "code",
   "execution_count": null,
   "id": "5b51f8cc-5dde-4ae9-9618-1bbf77b15f71",
   "metadata": {},
   "outputs": [],
   "source": []
  }
 ],
 "metadata": {
  "kernelspec": {
   "display_name": "Python 3 (ipykernel)",
   "language": "python",
   "name": "python3"
  },
  "language_info": {
   "codemirror_mode": {
    "name": "ipython",
    "version": 3
   },
   "file_extension": ".py",
   "mimetype": "text/x-python",
   "name": "python",
   "nbconvert_exporter": "python",
   "pygments_lexer": "ipython3",
   "version": "3.12.4"
  }
 },
 "nbformat": 4,
 "nbformat_minor": 5
}
